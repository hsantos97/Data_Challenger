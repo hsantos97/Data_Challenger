{
 "cells": [
  {
   "cell_type": "code",
   "execution_count": 54,
   "id": "579d95a6",
   "metadata": {},
   "outputs": [],
   "source": [
    "import pandas as pd"
   ]
  },
  {
   "cell_type": "code",
   "execution_count": 55,
   "id": "cb4651e1",
   "metadata": {},
   "outputs": [],
   "source": [
    "columName = ['id', 'name']\n",
    "movies = pd.read_csv('./data/movies.csv',sep=\";\", names=columName, header=None, index_col=False)\n",
    "movies_id = movies[['id']].values"
   ]
  },
  {
   "cell_type": "code",
   "execution_count": 56,
   "id": "c61e41d9",
   "metadata": {},
   "outputs": [],
   "source": [
    "rating = pd.read_csv('./data/customers_rating.csv',sep=\";\")"
   ]
  },
  {
   "cell_type": "code",
   "execution_count": 57,
   "id": "cbcb156b",
   "metadata": {},
   "outputs": [],
   "source": [
    "#função que retorna quantidade de filmes\n",
    "def getQtdMovie():\n",
    "    return len(movies)"
   ]
  },
  {
   "cell_type": "code",
   "execution_count": 58,
   "id": "4db78728",
   "metadata": {},
   "outputs": [],
   "source": [
    "#função que recebe um dataFrame e id de filme e retorna a média das avaliações.\n",
    "def getMean(df, movieId):\n",
    "    count = 0\n",
    "    summary = 0\n",
    "    for i in rating[rating.Movie_Id == movieId].values:\n",
    "        summary += i[1]\n",
    "        count += 1\n",
    "    \n",
    "    return summary/count"
   ]
  },
  {
   "cell_type": "code",
   "execution_count": 59,
   "id": "8ecdb5b0",
   "metadata": {},
   "outputs": [],
   "source": [
    "#função que recebe o id do filme como parâmetro e retorna nome do filme\n",
    "def getName(movieId):\n",
    "    row = movies[movies['id']==movieId][['name']].values.tolist()[0][0]\n",
    "    return row"
   ]
  },
  {
   "cell_type": "code",
   "execution_count": 60,
   "id": "18c74af3",
   "metadata": {},
   "outputs": [],
   "source": [
    "#função que cria e retorna uma lista de dicionarios com chaves de id, média e nome.\n",
    "def getMovieRating():\n",
    "    arr =[]\n",
    "    for item in movies_id:\n",
    "        arr.append({\n",
    "            \"id\": item[0], \n",
    "            \"mean\": getMean(rating, item[0]),\n",
    "            \"name\":getName(item[0])\n",
    "            })\n",
    "        \n",
    "    return arr"
   ]
  },
  {
   "cell_type": "code",
   "execution_count": 61,
   "id": "c04f267b",
   "metadata": {},
   "outputs": [],
   "source": [
    "#função que pega a lista de dicionários e ordena a média de forma decrescente e retornando as top 5 médias.\n",
    "def bestRating():\n",
    "    arr = getMovieRating()\n",
    "    order = sorted(arr, key=lambda row:row['mean'], reverse=1)\n",
    "    best = [order[0], order[1], order[2], order[3], order[4]]\n",
    "    return best"
   ]
  },
  {
   "cell_type": "code",
   "execution_count": 62,
   "id": "6f6dc6b3",
   "metadata": {},
   "outputs": [],
   "source": [
    "#função que separa uma coluna do dataFrame em titulo e ano, criado um temp para armazenar o df agrupado pela coluna\n",
    "#'year' e ordenado de forma crescente.\n",
    "#retornando uma lista com ano e lançamento.\n",
    "def getRelease():\n",
    "    #Quais os 5 anos com menos lançamentos de filmes?\n",
    "    movies_t=[item.split(', ') for item in movies['name'].values]\n",
    "    movies['title'] = [item[0].replace('(', '') for item in movies_t]\n",
    "    movies['year'] = [item[1].replace(')', '') for item in movies_t]\n",
    "    temp = movies.pivot_table(columns=['year'], aggfunc='size')\n",
    "    temp = temp.sort_values()\n",
    "    cont = 0\n",
    "    temp2 = []\n",
    "    for i in temp:\n",
    "        if cont > 4:\n",
    "            break\n",
    "        else:\n",
    "            temp2.append({'year': temp.index[cont], 'release': i})\n",
    "            cont += 1\n",
    "    return temp2"
   ]
  },
  {
   "cell_type": "code",
   "execution_count": 63,
   "id": "61ca4c74",
   "metadata": {},
   "outputs": [],
   "source": [
    "#função que pega a data maxima de avaliação, filtra por notas maiores ou iguais a 4.7 e retorna o total de itens.\n",
    "def getByLastDate():\n",
    "    lastY = rating.loc[rating['Date'] == rating['Date'].max()]\n",
    "    lastY = lastY.loc[lastY['Rating'] >= 4.7]\n",
    "    tot = len(lastY.pivot_table(columns=['Movie_Id'], aggfunc='size'))\n",
    "    return tot"
   ]
  },
  {
   "cell_type": "code",
   "execution_count": 64,
   "id": "be6d054f",
   "metadata": {},
   "outputs": [],
   "source": [
    "#função que pega a data maxima de avaliação, agrupa o df por nota e id do filme e retornando os 10 piores filmes.\n",
    "def getRatingByDate():\n",
    "    df = rating.loc[rating['Date'] == rating['Date'].max()]\n",
    "    temp = df.groupby(['Rating','Movie_Id']).agg({'Rating':sum}).head(10).index.tolist()\n",
    "    temp = [list(item) for item in temp]\n",
    "    temp = [{\"Rating\":item[0],\"Movie_Id\":item[1]} for item in temp]\n",
    "    return temp"
   ]
  },
  {
   "cell_type": "code",
   "execution_count": 65,
   "id": "04ec3405",
   "metadata": {},
   "outputs": [],
   "source": [
    "#função que cria um df temporario agrupado pelo id do custumer e ordenado, retornarndo o id do custumer\n",
    "# e quantas avaliações ele fez.\n",
    "def getAssessments():   \n",
    "    #Quais os id's dos 5 customer que mais avaliaram filmes e quantas avaliações cada um fez?\n",
    "    temp =rating.pivot_table(columns=['Cust_Id'], aggfunc='size')\n",
    "    temp = temp.sort_values(ascending=False)\n",
    "    cont = 0\n",
    "    temp2 = []\n",
    "    for i in temp:\n",
    "        if cont > 4:\n",
    "            break\n",
    "        else:\n",
    "            temp2.append({'Cust_Id': temp.index[cont], 'Assessments': i})\n",
    "            cont += 1\n",
    "            \n",
    "    return temp2"
   ]
  },
  {
   "cell_type": "code",
   "execution_count": 66,
   "id": "16a31279",
   "metadata": {},
   "outputs": [
    {
     "name": "stdout",
     "output_type": "stream",
     "text": [
      "4499\n"
     ]
    }
   ],
   "source": [
    "##Quantos filmes estão disponíveis no dataset?\n",
    "# Um total de 4499 filmes.\n",
    "print(getQtdMovie())"
   ]
  },
  {
   "cell_type": "code",
   "execution_count": 67,
   "id": "3355cb8c",
   "metadata": {},
   "outputs": [
    {
     "name": "stdout",
     "output_type": "stream",
     "text": [
      "[{'id': 3456, 'mean': 4.6709891019450955, 'name': '(Lost: Season 1, 2004)'}, {'id': 3033, 'mean': 4.586363636363636, 'name': '(Ghost in the Shell: Stand Alone Complex: 2nd Gig, 2005)'}, {'id': 2102, 'mean': 4.581295988606693, 'name': '(The Simpsons: Season 6, 1994)'}, {'id': 4238, 'mean': 4.554434413170473, 'name': '(Inu-Yasha, 2000)'}, {'id': 13, 'mean': 4.552, 'name': '(Lord of the Rings: The Return of the King: Extended Edition: Bonus Material, 2003)'}]\n"
     ]
    }
   ],
   "source": [
    "## Qual é o nome dos 5 filmes com melhor média de avaliação?\n",
    "# 1° lost: season 1, com média de 4.67\n",
    "# 2° Ghost in the shell, com média de 4.586\n",
    "# 3° the simpsons, com média de 4.581\n",
    "# 4° Inu-Yasha, com média de 4.554\n",
    "# 5° Lord of de Rings, com média de 4.552\n",
    "print(bestRating())"
   ]
  },
  {
   "cell_type": "code",
   "execution_count": 68,
   "id": "5fe98890",
   "metadata": {},
   "outputs": [
    {
     "name": "stdout",
     "output_type": "stream",
     "text": [
      "[{'year': '1915', 'release': 1}, {'year': '1917', 'release': 1}, {'year': '1922', 'release': 1}, {'year': '1926', 'release': 1}, {'year': '1916', 'release': 2}]\n"
     ]
    }
   ],
   "source": [
    "##Quais os 5 anos com menos lançamentos de filmes?\n",
    "# 1° ano 1915 com um lançamento\n",
    "# 2° ano 1917 com um lançamento\n",
    "# 3° ano 1922 com um lançamento\n",
    "# 4° ano 1926 com um lançamento\n",
    "# 5° ano 1915 com dois lançamentos\n",
    "print(getRelease())"
   ]
  },
  {
   "cell_type": "code",
   "execution_count": 69,
   "id": "38dc5825",
   "metadata": {},
   "outputs": [
    {
     "name": "stdout",
     "output_type": "stream",
     "text": [
      "780\n"
     ]
    }
   ],
   "source": [
    "##Quantos filmes que possuem avaliação maior ou igual a 4.7, considerando apenas os filmes avaliados na última data de avaliação do dataset?\n",
    "# Com base nos filmes avaliados na última data de avaliação do dataset são 780 filmes.\n",
    "print(getByLastDate())"
   ]
  },
  {
   "cell_type": "code",
   "execution_count": 70,
   "id": "c8442913",
   "metadata": {},
   "outputs": [
    {
     "name": "stdout",
     "output_type": "stream",
     "text": [
      "[{'Rating': 1.0, 'Movie_Id': 18}, {'Rating': 1.0, 'Movie_Id': 76}, {'Rating': 1.0, 'Movie_Id': 85}, {'Rating': 1.0, 'Movie_Id': 104}, {'Rating': 1.0, 'Movie_Id': 138}, {'Rating': 1.0, 'Movie_Id': 175}, {'Rating': 1.0, 'Movie_Id': 187}, {'Rating': 1.0, 'Movie_Id': 267}, {'Rating': 1.0, 'Movie_Id': 270}, {'Rating': 1.0, 'Movie_Id': 273}]\n"
     ]
    }
   ],
   "source": [
    "##Dos filmes encontrados na questão anterior, quais são os 10 filmes com as piores notas e quais as notas?\n",
    "# Todos os dez filmes possuem nota 1, sendo o id do filme 18, 76, 85, 104, 138, 175, 187, 267, 270, 273.  \n",
    "print(getRatingByDate())"
   ]
  },
  {
   "cell_type": "code",
   "execution_count": 71,
   "id": "bd7b02d0",
   "metadata": {},
   "outputs": [
    {
     "name": "stdout",
     "output_type": "stream",
     "text": [
      "[{'Cust_Id': 305344, 'Assessments': 4467}, {'Cust_Id': 387418, 'Assessments': 4422}, {'Cust_Id': 2439493, 'Assessments': 4195}, {'Cust_Id': 1664010, 'Assessments': 4019}, {'Cust_Id': 2118461, 'Assessments': 3769}]\n"
     ]
    }
   ],
   "source": [
    "##Quais os id's dos 5 customer que mais avaliaram filmes e quantas avaliações cada um fez?\n",
    "# 1° id: 305344, avaliações: 4467\n",
    "# 2° id: 387418, avaliações: 4422\n",
    "# 3° id: 2439493, avaliações: 4195\n",
    "# 4° id: 1664010, avaliações: 4019\n",
    "# 5° id: 2118461, avaliações: 3769\n",
    "print(getAssessments())"
   ]
  },
  {
   "cell_type": "code",
   "execution_count": null,
   "id": "945efca0",
   "metadata": {},
   "outputs": [],
   "source": []
  }
 ],
 "metadata": {
  "kernelspec": {
   "display_name": "Python 3 (ipykernel)",
   "language": "python",
   "name": "python3"
  },
  "language_info": {
   "codemirror_mode": {
    "name": "ipython",
    "version": 3
   },
   "file_extension": ".py",
   "mimetype": "text/x-python",
   "name": "python",
   "nbconvert_exporter": "python",
   "pygments_lexer": "ipython3",
   "version": "3.8.10"
  }
 },
 "nbformat": 4,
 "nbformat_minor": 5
}
